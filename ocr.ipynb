{
  "nbformat": 4,
  "nbformat_minor": 0,
  "metadata": {
    "colab": {
      "provenance": []
    },
    "kernelspec": {
      "name": "python3",
      "display_name": "Python 3"
    },
    "language_info": {
      "name": "python"
    }
  },
  "cells": [
    {
      "cell_type": "code",
      "source": [
        "\n",
        "   !pip install pytesseract\n",
        "   !pip install tesserocr"
      ],
      "metadata": {
        "colab": {
          "base_uri": "https://localhost:8080/"
        },
        "id": "MVBEGzSdx1mK",
        "outputId": "38409604-e5ae-4a0c-a0e1-f243e59dadd8"
      },
      "execution_count": null,
      "outputs": [
        {
          "output_type": "stream",
          "name": "stdout",
          "text": [
            "Requirement already satisfied: pytesseract in /usr/local/lib/python3.10/dist-packages (0.3.13)\n",
            "Requirement already satisfied: packaging>=21.3 in /usr/local/lib/python3.10/dist-packages (from pytesseract) (24.1)\n",
            "Requirement already satisfied: Pillow>=8.0.0 in /usr/local/lib/python3.10/dist-packages (from pytesseract) (10.4.0)\n",
            "Collecting tesserocr\n",
            "  Downloading tesserocr-2.7.1-cp310-cp310-manylinux_2_28_x86_64.whl.metadata (10 kB)\n",
            "Downloading tesserocr-2.7.1-cp310-cp310-manylinux_2_28_x86_64.whl (5.0 MB)\n",
            "\u001b[2K   \u001b[90m━━━━━━━━━━━━━━━━━━━━━━━━━━━━━━━━━━━━━━━━\u001b[0m \u001b[32m5.0/5.0 MB\u001b[0m \u001b[31m30.8 MB/s\u001b[0m eta \u001b[36m0:00:00\u001b[0m\n",
            "\u001b[?25hInstalling collected packages: tesserocr\n",
            "Successfully installed tesserocr-2.7.1\n"
          ]
        }
      ]
    },
    {
      "cell_type": "code",
      "source": [
        "!apt-get install -y tesseract-ocr\n"
      ],
      "metadata": {
        "colab": {
          "base_uri": "https://localhost:8080/"
        },
        "id": "zyqaYLRTyUZO",
        "outputId": "cd7e4ad3-0815-49f9-db6f-dc813b281707"
      },
      "execution_count": null,
      "outputs": [
        {
          "output_type": "stream",
          "name": "stdout",
          "text": [
            "Reading package lists... Done\n",
            "Building dependency tree... Done\n",
            "Reading state information... Done\n",
            "The following additional packages will be installed:\n",
            "  tesseract-ocr-eng tesseract-ocr-osd\n",
            "The following NEW packages will be installed:\n",
            "  tesseract-ocr tesseract-ocr-eng tesseract-ocr-osd\n",
            "0 upgraded, 3 newly installed, 0 to remove and 49 not upgraded.\n",
            "Need to get 4,816 kB of archives.\n",
            "After this operation, 15.6 MB of additional disk space will be used.\n",
            "Get:1 http://archive.ubuntu.com/ubuntu jammy/universe amd64 tesseract-ocr-eng all 1:4.00~git30-7274cfa-1.1 [1,591 kB]\n",
            "Get:2 http://archive.ubuntu.com/ubuntu jammy/universe amd64 tesseract-ocr-osd all 1:4.00~git30-7274cfa-1.1 [2,990 kB]\n",
            "Get:3 http://archive.ubuntu.com/ubuntu jammy/universe amd64 tesseract-ocr amd64 4.1.1-2.1build1 [236 kB]\n",
            "Fetched 4,816 kB in 1s (4,632 kB/s)\n",
            "Selecting previously unselected package tesseract-ocr-eng.\n",
            "(Reading database ... 123614 files and directories currently installed.)\n",
            "Preparing to unpack .../tesseract-ocr-eng_1%3a4.00~git30-7274cfa-1.1_all.deb ...\n",
            "Unpacking tesseract-ocr-eng (1:4.00~git30-7274cfa-1.1) ...\n",
            "Selecting previously unselected package tesseract-ocr-osd.\n",
            "Preparing to unpack .../tesseract-ocr-osd_1%3a4.00~git30-7274cfa-1.1_all.deb ...\n",
            "Unpacking tesseract-ocr-osd (1:4.00~git30-7274cfa-1.1) ...\n",
            "Selecting previously unselected package tesseract-ocr.\n",
            "Preparing to unpack .../tesseract-ocr_4.1.1-2.1build1_amd64.deb ...\n",
            "Unpacking tesseract-ocr (4.1.1-2.1build1) ...\n",
            "Setting up tesseract-ocr-eng (1:4.00~git30-7274cfa-1.1) ...\n",
            "Setting up tesseract-ocr-osd (1:4.00~git30-7274cfa-1.1) ...\n",
            "Setting up tesseract-ocr (4.1.1-2.1build1) ...\n",
            "Processing triggers for man-db (2.10.2-1) ...\n"
          ]
        }
      ]
    },
    {
      "source": [
        "!apt-get install -y tesseract-ocr\n",
        "\n",
        "import os\n",
        "import fitz  # PyMuPDF\n",
        "import pytesseract\n",
        "import cv2\n",
        "import io\n",
        "from PIL import Image, ImageFile\n",
        "from colorama import Fore\n",
        "import platform\n",
        "\n",
        "ImageFile.LOAD_TRUNCATED_IMAGES = True\n",
        "scanned_text = \"\"\n",
        "input_tesseract_path = r\"tesseract\"\n",
        "dir_names = [\"images\", \"output_txt\"]\n",
        "\n",
        "def get_user_input():\n",
        "    global input_tesseract_path\n",
        "\n",
        "    if platform.system() == \"Windows\":\n",
        "        input_tesseract_path = r\"C:\\Program Files\\Tesseract-OCR\\tesseract.exe\"\n",
        "\n",
        "    user_input = r\"/content/image-based-pdf-sample.pdf\"  # Change this to your PDF path\n",
        "    print(Fore.GREEN + f\"[!] Using PDF file: {user_input}\" + Fore.RESET)\n",
        "\n",
        "    if not os.path.isfile(user_input):\n",
        "        print(Fore.RED + \"[X] Please provide a valid path to a file.\" + Fore.RESET)\n",
        "    else:\n",
        "        extract_images(user_input)\n",
        "        recognize_text()\n",
        "\n",
        "def extract_images(file_path):\n",
        "    global dir_names\n",
        "\n",
        "    pdf_file = fitz.open(file_path)\n",
        "\n",
        "    for dir_name in dir_names:\n",
        "        os.makedirs(dir_name, exist_ok=True)\n",
        "        print(Fore.GREEN + f\"[!] Directory {dir_name} created or already exists.\" + Fore.RESET)\n",
        "\n",
        "    for page_index in range(len(pdf_file)):\n",
        "        page = pdf_file[page_index]\n",
        "        image_list = page.get_images()\n",
        "\n",
        "        if image_list:\n",
        "            print(Fore.GREEN + f\"[+] Found {len(image_list)} images on page {page_index}.\" + Fore.RESET)\n",
        "            for img_index, img in enumerate(image_list, start=1):\n",
        "                xref = img[0]\n",
        "                base_image = pdf_file.extract_image(xref)\n",
        "                image_bytes = base_image[\"image\"]\n",
        "                image_ext = base_image[\"ext\"]\n",
        "\n",
        "                image = Image.open(io.BytesIO(image_bytes))\n",
        "                image.save(open(f\"images/image{page_index + 1}_{img_index}.{image_ext}\", \"wb\"))\n",
        "                print(Fore.GREEN + f\"[+] Saved image: images/image{page_index + 1}_{img_index}.{image_ext}\" + Fore.RESET)\n",
        "\n",
        "def recognize_text():\n",
        "    global scanned_text, input_tesseract_path\n",
        "\n",
        "    pytesseract.pytesseract.tesseract_cmd = input_tesseract_path\n",
        "\n",
        "    for img_filename in os.listdir('images'):\n",
        "        image = cv2.imread(f'images/{img_filename}')\n",
        "\n",
        "        print(Fore.YELLOW + f\"[.] Scanning text from {img_filename}...\" + Fore.RESET)\n",
        "        text = pytesseract.image_to_string(image, lang='eng')  # Change 'eng' to 'spa' for Spanish or other languages\n",
        "\n",
        "        scanned_text += text + \"\\n\"\n",
        "        print(Fore.GREEN + \"[!] Finished scanning text.\" + Fore.RESET)\n",
        "\n",
        "    print(Fore.CYAN + \"[.] Writing txtResult.txt...\" + Fore.RESET)\n",
        "    with open(f\"{dir_names[1]}/txtResult.txt\", \"w\") as file_txt:\n",
        "        file_txt.write(scanned_text)\n",
        "    print(Fore.GREEN + \"[!] File written.\" + Fore.RESET)\n",
        "\n",
        "get_user_input()"
      ],
      "cell_type": "code",
      "metadata": {
        "colab": {
          "base_uri": "https://localhost:8080/"
        },
        "id": "x1zDJ1pdvQ38",
        "outputId": "f83855af-a003-4e4c-adf0-18cbfbc8652f"
      },
      "execution_count": 29,
      "outputs": [
        {
          "output_type": "stream",
          "name": "stdout",
          "text": [
            "Reading package lists... Done\n",
            "Building dependency tree... Done\n",
            "Reading state information... Done\n",
            "tesseract-ocr is already the newest version (4.1.1-2.1build1).\n",
            "0 upgraded, 0 newly installed, 0 to remove and 49 not upgraded.\n",
            "\u001b[32m[!] Using PDF file: /content/image-based-pdf-sample.pdf\u001b[39m\n",
            "\u001b[32m[!] Directory images created or already exists.\u001b[39m\n",
            "\u001b[32m[!] Directory output_txt created or already exists.\u001b[39m\n",
            "\u001b[32m[+] Found 1 images on page 0.\u001b[39m\n",
            "\u001b[32m[+] Saved image: images/image1_1.jpeg\u001b[39m\n",
            "\u001b[33m[.] Scanning text from image1_1.jpeg...\u001b[39m\n",
            "\u001b[32m[!] Finished scanning text.\u001b[39m\n",
            "\u001b[36m[.] Writing txtResult.txt...\u001b[39m\n",
            "\u001b[32m[!] File written.\u001b[39m\n"
          ]
        }
      ]
    },
    {
      "source": [
        "!chmod +x /content/tesseract.exe"
      ],
      "cell_type": "code",
      "metadata": {
        "id": "Z_AJbT6T6VW3"
      },
      "execution_count": 27,
      "outputs": []
    }
  ]
}